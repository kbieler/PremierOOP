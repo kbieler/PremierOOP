{
 "cells": [
  {
   "cell_type": "code",
   "execution_count": 1,
   "id": "807b58ed",
   "metadata": {},
   "outputs": [
    {
     "ename": "SyntaxError",
     "evalue": "invalid syntax (1882106714.py, line 10)",
     "output_type": "error",
     "traceback": [
      "\u001b[0;36m  File \u001b[0;32m\"/var/folders/vf/_v4f2__966ggh5dys96jcn880000gn/T/ipykernel_44094/1882106714.py\"\u001b[0;36m, line \u001b[0;32m10\u001b[0m\n\u001b[0;31m    allplayers.update({'first_name': [player['first_name'], 'last_name': [player['last_name']], 'team': [player['team']], 'injured': [player['injured']], 'suspended': [player['suspended']], 'position': [player['position']]})\u001b[0m\n\u001b[0m                                                                       ^\u001b[0m\n\u001b[0;31mSyntaxError\u001b[0m\u001b[0;31m:\u001b[0m invalid syntax\n"
     ]
    }
   ],
   "source": [
    "import requests as r\n",
    "\n",
    "allplayers ={}\n",
    "\n",
    "data = r.get(f'https://foxes90-prempundit.herokuapp.com/players')\n",
    "if data.status_code == 200:\n",
    "    data = data.json()\n",
    "    for i in range(len(data['Players'])):\n",
    "        player = data['Players'][i]\n",
    "        allplayers.update({'first_name': [player['first_name'], 'last_name': [player['last_name']], 'team': [player['team']], 'injured': [player['injured']], 'suspended': [player['suspended']], 'position': [player['position']]})\n",
    "\n",
    "print(allplayers)"
   ]
  },
  {
   "cell_type": "code",
   "execution_count": 2,
   "id": "64177e8b",
   "metadata": {},
   "outputs": [
    {
     "name": "stdout",
     "output_type": "stream",
     "text": [
      "Manchester City\n",
      "Manchester City\n",
      "Manchester City\n",
      "Manchester City\n",
      "Manchester City\n",
      "Manchester City\n",
      "Manchester City\n",
      "Manchester City\n",
      "Manchester City\n",
      "Manchester City\n",
      "Manchester City\n",
      "Manchester City\n",
      "Manchester City\n",
      "Liverpool\n",
      "Liverpool\n",
      "Liverpool\n",
      "Liverpool\n",
      "Liverpool\n",
      "Liverpool\n",
      "Liverpool\n",
      "Liverpool\n",
      "Liverpool\n",
      "Liverpool\n",
      "Liverpool\n",
      "Arsenal\n",
      "Arsenal\n",
      "Arsenal\n",
      "Arsenal\n",
      "Arsenal\n",
      "Arsenal\n",
      "Arsenal\n",
      "Arsenal\n",
      "Arsenal\n",
      "Arsenal\n",
      "Arsenal\n",
      "Arsenal\n",
      "Arsenal\n",
      "Arsenal\n",
      "Arsenal\n",
      "Arsenal\n",
      "Everton\n",
      "Everton\n",
      "Everton\n",
      "Everton\n",
      "Everton\n",
      "Everton\n",
      "Everton\n",
      "Everton\n",
      "Everton\n",
      "Everton\n",
      "Everton\n",
      "Everton\n",
      "Everton\n",
      "Everton\n",
      "Everton\n",
      "Everton\n",
      "Aston Villa\n",
      "Aston Villa\n",
      "Aston Villa\n",
      "Aston Villa\n",
      "Aston Villa\n",
      "Aston Villa\n",
      "Aston Villa\n",
      "Aston Villa\n",
      "Aston Villa\n",
      "Aston Villa\n",
      "Aston Villa\n",
      "Aston Villa\n",
      "Aston Villa\n",
      "Wolverhampton Wanderers\n",
      "Wolverhampton Wanderers\n",
      "Wolverhampton Wanderers\n",
      "Wolverhampton Wanderers\n",
      "Wolverhampton Wanderers\n",
      "Wolverhampton Wanderers\n",
      "Wolverhampton Wanderers\n",
      "Wolverhampton Wanderers\n",
      "Wolverhampton Wanderers\n",
      "Wolverhampton Wanderers\n",
      "Manchester City\n",
      "Manchester City\n",
      "Liverpool\n",
      "Liverpool\n",
      "Liverpool\n",
      "Everton\n",
      "Everton\n",
      "Wolverhampton Wanderers\n",
      "Wolverhampton Wanderers\n"
     ]
    }
   ],
   "source": [
    "import requests as r\n",
    "\n",
    "data = r.get(f'https://foxes90-prempundit.herokuapp.com/players')\n",
    "if data.status_code == 200:\n",
    "    data = data.json()\n",
    "    for i in range(len(data['Players'])):\n",
    "        print(data['Players'][i]['team'])"
   ]
  },
  {
   "cell_type": "code",
   "execution_count": 6,
   "id": "6a745e06",
   "metadata": {},
   "outputs": [
    {
     "ename": "KeyboardInterrupt",
     "evalue": "",
     "output_type": "error",
     "traceback": [
      "\u001b[0;31m---------------------------------------------------------------------------\u001b[0m",
      "\u001b[0;31mKeyboardInterrupt\u001b[0m                         Traceback (most recent call last)",
      "\u001b[0;32m/var/folders/vf/_v4f2__966ggh5dys96jcn880000gn/T/ipykernel_44094/2664288453.py\u001b[0m in \u001b[0;36m<module>\u001b[0;34m\u001b[0m\n\u001b[1;32m      9\u001b[0m         \u001b[0;32mwhile\u001b[0m \u001b[0mdata\u001b[0m\u001b[0;34m[\u001b[0m\u001b[0;34m'Players'\u001b[0m\u001b[0;34m]\u001b[0m\u001b[0;34m[\u001b[0m\u001b[0mi\u001b[0m\u001b[0;34m]\u001b[0m\u001b[0;34m[\u001b[0m\u001b[0;34m'team'\u001b[0m\u001b[0;34m]\u001b[0m \u001b[0;34m==\u001b[0m \u001b[0;34m'Liverpool'\u001b[0m\u001b[0;34m:\u001b[0m\u001b[0;34m\u001b[0m\u001b[0;34m\u001b[0m\u001b[0m\n\u001b[1;32m     10\u001b[0m             \u001b[0mplayer\u001b[0m \u001b[0;34m=\u001b[0m \u001b[0mdata\u001b[0m\u001b[0;34m[\u001b[0m\u001b[0;34m'Players'\u001b[0m\u001b[0;34m]\u001b[0m\u001b[0;34m[\u001b[0m\u001b[0mi\u001b[0m\u001b[0;34m]\u001b[0m\u001b[0;34m\u001b[0m\u001b[0;34m\u001b[0m\u001b[0m\n\u001b[0;32m---> 11\u001b[0;31m             \u001b[0mliverpool\u001b[0m\u001b[0;34m.\u001b[0m\u001b[0mupdate\u001b[0m\u001b[0;34m(\u001b[0m\u001b[0;34m{\u001b[0m\u001b[0;34m'first_name'\u001b[0m\u001b[0;34m:\u001b[0m \u001b[0;34m[\u001b[0m\u001b[0mplayer\u001b[0m\u001b[0;34m[\u001b[0m\u001b[0;34m'first_name'\u001b[0m\u001b[0;34m]\u001b[0m\u001b[0;34m]\u001b[0m\u001b[0;34m,\u001b[0m \u001b[0;34m'last_name'\u001b[0m\u001b[0;34m:\u001b[0m \u001b[0;34m[\u001b[0m\u001b[0mplayer\u001b[0m\u001b[0;34m[\u001b[0m\u001b[0;34m'last_name'\u001b[0m\u001b[0;34m]\u001b[0m\u001b[0;34m]\u001b[0m\u001b[0;34m,\u001b[0m \u001b[0;34m'position'\u001b[0m\u001b[0;34m:\u001b[0m \u001b[0;34m[\u001b[0m\u001b[0mplayer\u001b[0m\u001b[0;34m[\u001b[0m\u001b[0;34m'position'\u001b[0m\u001b[0;34m]\u001b[0m\u001b[0;34m]\u001b[0m\u001b[0;34m}\u001b[0m\u001b[0;34m)\u001b[0m\u001b[0;34m\u001b[0m\u001b[0;34m\u001b[0m\u001b[0m\n\u001b[0m\u001b[1;32m     12\u001b[0m \u001b[0;34m\u001b[0m\u001b[0m\n\u001b[1;32m     13\u001b[0m \u001b[0mprint\u001b[0m\u001b[0;34m(\u001b[0m\u001b[0mliverpool\u001b[0m\u001b[0;34m)\u001b[0m\u001b[0;34m\u001b[0m\u001b[0;34m\u001b[0m\u001b[0m\n",
      "\u001b[0;31mKeyboardInterrupt\u001b[0m: "
     ]
    }
   ],
   "source": [
    "import requests as r\n",
    "\n",
    "liverpool ={}\n",
    "\n",
    "data = r.get(f'https://foxes90-prempundit.herokuapp.com/players')\n",
    "if data.status_code == 200:\n",
    "    data = data.json()\n",
    "    for i in range(len(data['Players'])):\n",
    "        if data['Players'][i]['team'] == 'Liverpool':\n",
    "            player = data['Players'][i]\n",
    "            liverpool.update({'first_name': [player['first_name']], 'last_name': [player['last_name']], 'position': [player['position']]})\n",
    "            \n",
    "print(liverpool)"
   ]
  },
  {
   "cell_type": "code",
   "execution_count": null,
   "id": "236ae268",
   "metadata": {},
   "outputs": [],
   "source": []
  }
 ],
 "metadata": {
  "kernelspec": {
   "display_name": "Python 3 (ipykernel)",
   "language": "python",
   "name": "python3"
  },
  "language_info": {
   "codemirror_mode": {
    "name": "ipython",
    "version": 3
   },
   "file_extension": ".py",
   "mimetype": "text/x-python",
   "name": "python",
   "nbconvert_exporter": "python",
   "pygments_lexer": "ipython3",
   "version": "3.9.7"
  }
 },
 "nbformat": 4,
 "nbformat_minor": 5
}
